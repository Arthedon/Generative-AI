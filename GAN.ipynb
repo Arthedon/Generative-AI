{
 "cells": [
  {
   "cell_type": "code",
   "execution_count": 5,
   "metadata": {},
   "outputs": [
    {
     "name": "stdout",
     "output_type": "stream",
     "text": [
      "Working with cuda...\n"
     ]
    }
   ],
   "source": [
    "import torch\n",
    "from torch import nn\n",
    "from torch import functional as F\n",
    "device = \"cuda\" if torch.cuda.is_available() else \"cpu\"\n",
    "print(f\"Working with {device}...\")"
   ]
  },
  {
   "cell_type": "code",
   "execution_count": null,
   "metadata": {},
   "outputs": [],
   "source": [
    "class GAN_detector(nn.Module):\n",
    "    def __init__(self, image_shape : tuple, n_classes : int = 2, architecture : dict = {\"layers\" : [4096, 4096]}) -> None:\n",
    "        super(self, GAN_detector).__init__()\n",
    "        self.input_features = image_shape[0] * image_shape[1] * image_shape[2]\n",
    "        self.out_features = n_classes\n",
    "\n",
    "        self.linear_layers = nn.Sequential()\n",
    "        input_layer = self.input_features\n",
    "        for output_layer in architecture[\"layers\"]:\n",
    "            self.linear_layers.append(nn.Linear(in_features = input_layer, out_features = output_layer))\n",
    "            self.linear_layers.append(nn.ReLU())\n",
    "            input_layer = output_layer\n",
    "\n",
    "        self.linear_layers.append(nn.Linear(in_features = input_layer, out_features = self.out_features))\n",
    "        self.linear_layers.append(nn.Sigmoid())\n",
    "\n",
    "    def forward(self, x : torch.Tensor) -> torch.Tensor:\n",
    "        x = x.view(-1)\n",
    "\n",
    "\n"
   ]
  }
 ],
 "metadata": {
  "kernelspec": {
   "display_name": "Python 3",
   "language": "python",
   "name": "python3"
  },
  "language_info": {
   "codemirror_mode": {
    "name": "ipython",
    "version": 3
   },
   "file_extension": ".py",
   "mimetype": "text/x-python",
   "name": "python",
   "nbconvert_exporter": "python",
   "pygments_lexer": "ipython3",
   "version": "3.10.12"
  }
 },
 "nbformat": 4,
 "nbformat_minor": 2
}
